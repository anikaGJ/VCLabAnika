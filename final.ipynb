{
 "cells": [
  {
   "cell_type": "code",
   "execution_count": null,
   "metadata": {},
   "outputs": [
    {
     "name": "stdout",
     "output_type": "stream",
     "text": [
      "Welcome to the fortune teller! \n"
     ]
    }
   ],
   "source": [
    "print(\"Welcome to the fortune teller! \")\n",
    "\n",
    "name = input(\"Enter your name!\")\n",
    "\n",
    "choice = int(input(\"Which fortune card do you want to pick? Enter a number 1-10. \"))\n",
    "\n",
    "\n",
    "fortune = \"hello \"\n",
    "\n",
    "if choice == 1:\n",
    "    fortune = \"Do not be afraid of competition.\"\n",
    "elif choice == 2:\n",
    "    fortune = \"An exciting opportunity lies ahead of you. \"\n",
    "elif choice == 3:\n",
    "    fortune = \"You love peace.\"\n",
    "elif choice == 4:\n",
    "    fortune = \"You will always be surrounded by true friends.\"\n",
    "elif choice == 5:\n",
    "    fortune = \"Today is not your day. Be cautious.\"\n",
    "elif choice == 6:\n",
    "    fortune = \"Someone is looking up to you. Don't let that person down.\"\n",
    "elif choice == 7:\n",
    "    fortune = \"No snowflake in an avalanche ever feels responsible.\"\n",
    "elif choice == 8:\n",
    "    fortune = \"A dubious friend may be an enemy in camouflage.\"\n",
    "elif choice == 9:\n",
    "    fortune = \"A new outlook brightens your image and brings new friends.\"\n",
    "elif choice == 10:\n",
    "    fortune = \"A pleasant surprise is waiting for you.\"\n",
    "\n",
    "print(name + \", your fortune for today is: \" + fortune)\n"
   ]
  },
  {
   "cell_type": "code",
   "execution_count": null,
   "metadata": {},
   "outputs": [],
   "source": []
  }
 ],
 "metadata": {
  "kernelspec": {
   "display_name": "Python 3",
   "language": "python",
   "name": "python3"
  },
  "language_info": {
   "codemirror_mode": {
    "name": "ipython",
    "version": 3
   },
   "file_extension": ".py",
   "mimetype": "text/x-python",
   "name": "python",
   "nbconvert_exporter": "python",
   "pygments_lexer": "ipython3",
   "version": "3.8.3"
  }
 },
 "nbformat": 4,
 "nbformat_minor": 4
}
